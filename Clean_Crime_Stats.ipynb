{
 "cells": [
  {
   "cell_type": "code",
   "execution_count": 42,
   "id": "b6fe1a80",
   "metadata": {},
   "outputs": [],
   "source": [
    "import pandas as pd\n",
    "import numpy as np"
   ]
  },
  {
   "cell_type": "markdown",
   "id": "fc00b588",
   "metadata": {},
   "source": [
    "## Combine All Crime Data \n",
    "\n",
    "FDA data set is subset of Crime Stats"
   ]
  },
  {
   "cell_type": "code",
   "execution_count": 43,
   "id": "5d06dec7",
   "metadata": {},
   "outputs": [],
   "source": [
    "file_path = \"../Dataset/Crime_Stats/\"\n",
    "sa_crime_suffix_file_name = \"-data_sa_crime.csv\"\n",
    "sa_fda_suffix_file_name = \"-data_sa_fda.csv\"\n",
    "\n",
    "prefix_file_name_list = [\"2013-14\", \"2014-15\", \"2015-16\", \"2016-17\",\n",
    "                         \"2017-18\", \"2018-19\", \"2019-20\", \"2020-21\",\n",
    "                         \"2021-22\", \"2022-23\", \"2024-25\"]\n",
    "\n",
    "sa_crime_df = pd.DataFrame()\n",
    "sa_fda_df = pd.DataFrame()\n",
    "for prefix_fn in prefix_file_name_list:\n",
    "    crime_file_name = file_path+prefix_fn+sa_crime_suffix_file_name\n",
    "    crime_df = pd.read_csv(crime_file_name, encoding='utf-8')\n",
    "    sa_crime_df = pd.concat([sa_crime_df, crime_df])\n",
    "\n",
    "    fda_file_name = file_path+prefix_fn+sa_fda_suffix_file_name\n",
    "    fda_df = pd.read_csv(fda_file_name, encoding='utf-8')\n",
    "    sa_fda_df = pd.concat([sa_fda_df, fda_df])\n",
    "\n",
    "    "
   ]
  },
  {
   "cell_type": "code",
   "execution_count": 44,
   "id": "96c289d0",
   "metadata": {},
   "outputs": [
    {
     "data": {
      "text/html": [
       "<div>\n",
       "<style scoped>\n",
       "    .dataframe tbody tr th:only-of-type {\n",
       "        vertical-align: middle;\n",
       "    }\n",
       "\n",
       "    .dataframe tbody tr th {\n",
       "        vertical-align: top;\n",
       "    }\n",
       "\n",
       "    .dataframe thead th {\n",
       "        text-align: right;\n",
       "    }\n",
       "</style>\n",
       "<table border=\"1\" class=\"dataframe\">\n",
       "  <thead>\n",
       "    <tr style=\"text-align: right;\">\n",
       "      <th></th>\n",
       "      <th>Reported Date</th>\n",
       "      <th>Suburb - Incident</th>\n",
       "      <th>Postcode - Incident</th>\n",
       "      <th>Offence Level 1 Description</th>\n",
       "      <th>Offence Level 2 Description</th>\n",
       "      <th>Offence Level 3 Description</th>\n",
       "      <th>Offence count</th>\n",
       "    </tr>\n",
       "  </thead>\n",
       "  <tbody>\n",
       "    <tr>\n",
       "      <th>0</th>\n",
       "      <td>1/07/2013</td>\n",
       "      <td>ABERFOYLE PARK</td>\n",
       "      <td>5159</td>\n",
       "      <td>OFFENCES AGAINST PROPERTY</td>\n",
       "      <td>SERIOUS CRIMINAL TRESPASS</td>\n",
       "      <td>SCT - Non Residence</td>\n",
       "      <td>1.0</td>\n",
       "    </tr>\n",
       "    <tr>\n",
       "      <th>1</th>\n",
       "      <td>1/07/2013</td>\n",
       "      <td>ADELAIDE</td>\n",
       "      <td>5000</td>\n",
       "      <td>OFFENCES AGAINST PROPERTY</td>\n",
       "      <td>PROPERTY DAMAGE AND ENVIRONMENTAL</td>\n",
       "      <td>Graffiti</td>\n",
       "      <td>2.0</td>\n",
       "    </tr>\n",
       "    <tr>\n",
       "      <th>2</th>\n",
       "      <td>1/07/2013</td>\n",
       "      <td>ADELAIDE</td>\n",
       "      <td>5000</td>\n",
       "      <td>OFFENCES AGAINST PROPERTY</td>\n",
       "      <td>PROPERTY DAMAGE AND ENVIRONMENTAL</td>\n",
       "      <td>Other property damage and environmental</td>\n",
       "      <td>2.0</td>\n",
       "    </tr>\n",
       "    <tr>\n",
       "      <th>3</th>\n",
       "      <td>1/07/2013</td>\n",
       "      <td>ADELAIDE</td>\n",
       "      <td>5000</td>\n",
       "      <td>OFFENCES AGAINST PROPERTY</td>\n",
       "      <td>SERIOUS CRIMINAL TRESPASS</td>\n",
       "      <td>SCT - Non Residence</td>\n",
       "      <td>1.0</td>\n",
       "    </tr>\n",
       "    <tr>\n",
       "      <th>4</th>\n",
       "      <td>1/07/2013</td>\n",
       "      <td>ADELAIDE</td>\n",
       "      <td>5000</td>\n",
       "      <td>OFFENCES AGAINST PROPERTY</td>\n",
       "      <td>THEFT AND RELATED OFFENCES</td>\n",
       "      <td>Other theft</td>\n",
       "      <td>3.0</td>\n",
       "    </tr>\n",
       "  </tbody>\n",
       "</table>\n",
       "</div>"
      ],
      "text/plain": [
       "  Reported Date Suburb - Incident Postcode - Incident  \\\n",
       "0     1/07/2013    ABERFOYLE PARK                5159   \n",
       "1     1/07/2013          ADELAIDE                5000   \n",
       "2     1/07/2013          ADELAIDE                5000   \n",
       "3     1/07/2013          ADELAIDE                5000   \n",
       "4     1/07/2013          ADELAIDE                5000   \n",
       "\n",
       "  Offence Level 1 Description        Offence Level 2 Description  \\\n",
       "0   OFFENCES AGAINST PROPERTY          SERIOUS CRIMINAL TRESPASS   \n",
       "1   OFFENCES AGAINST PROPERTY  PROPERTY DAMAGE AND ENVIRONMENTAL   \n",
       "2   OFFENCES AGAINST PROPERTY  PROPERTY DAMAGE AND ENVIRONMENTAL   \n",
       "3   OFFENCES AGAINST PROPERTY          SERIOUS CRIMINAL TRESPASS   \n",
       "4   OFFENCES AGAINST PROPERTY         THEFT AND RELATED OFFENCES   \n",
       "\n",
       "               Offence Level 3 Description  Offence count  \n",
       "0                      SCT - Non Residence            1.0  \n",
       "1                                 Graffiti            2.0  \n",
       "2  Other property damage and environmental            2.0  \n",
       "3                      SCT - Non Residence            1.0  \n",
       "4                              Other theft            3.0  "
      ]
     },
     "execution_count": 44,
     "metadata": {},
     "output_type": "execute_result"
    }
   ],
   "source": [
    "sa_crime_df.head()"
   ]
  },
  {
   "cell_type": "markdown",
   "id": "8b82ddef",
   "metadata": {},
   "source": [
    "## Initial Clean Crime Stats"
   ]
  },
  {
   "cell_type": "code",
   "execution_count": 45,
   "id": "3c626d01",
   "metadata": {},
   "outputs": [
    {
     "name": "stdout",
     "output_type": "stream",
     "text": [
      "Total Crime data record before remove Null: 989718\n",
      "Total Crime data record after remove Null: 984574\n",
      "<class 'pandas.core.frame.DataFrame'>\n",
      "Index: 984574 entries, 0 to 72633\n",
      "Data columns (total 7 columns):\n",
      " #   Column         Non-Null Count   Dtype  \n",
      "---  ------         --------------   -----  \n",
      " 0   report_date    984574 non-null  object \n",
      " 1   suburb         984574 non-null  object \n",
      " 2   postcode       984574 non-null  object \n",
      " 3   offence_lv1    984574 non-null  object \n",
      " 4   offence_lv2    984574 non-null  object \n",
      " 5   offence_lv3    984574 non-null  object \n",
      " 6   offence_count  984574 non-null  float64\n",
      "dtypes: float64(1), object(6)\n",
      "memory usage: 60.1+ MB\n"
     ]
    }
   ],
   "source": [
    "# Original Columns Name\n",
    "# ['Reported Date', 'Suburb - Incident', 'Postcode - Incident',\n",
    "# 'Offence Level 1 Description', 'Offence Level 2 Description',\n",
    "# 'Offence Level 3 Description', 'Offence count']\n",
    "\n",
    "# Rename Column\n",
    "sa_crime_df.columns = ['report_date', 'suburb', 'postcode', \n",
    "                       'offence_lv1', 'offence_lv2', 'offence_lv3',\n",
    "                       'offence_count']\n",
    "print(f\"Total Crime data record before remove Null: {len(sa_crime_df)}\")\n",
    "# drop null value\n",
    "sa_crime_df.dropna(inplace=True)\n",
    "print(f\"Total Crime data record after remove Null: {len(sa_crime_df)}\")\n",
    "sa_crime_df.info()"
   ]
  },
  {
   "cell_type": "code",
   "execution_count": 30,
   "id": "16249e1f",
   "metadata": {},
   "outputs": [],
   "source": [
    "# sa_crime_df.dropna(inplace=True)\n",
    "# sa_crime_df['Reported Date'] = sa_crime_df['Reported Date'].apply(lambda x: \"0\" + x if len(x)<10 else x)\n",
    "# sa_crime_df['Date'] = pd.to_datetime(sa_crime_df['Reported Date'], format='%d/%m/%Y')\n",
    "# sa_crime_df.set_index(sa_crime_df['Date'].dt.date, inplace=True)\n",
    "# sa_crime_df.sort_index(inplace=True)\n",
    "\n",
    "# print(\"Total Record of SA Crime data: \", len(sa_crime_df))\n",
    "# print(\"Min Reported Date: \", sa_crime_df.index.min())\n",
    "# print(\"Max Reported Date: \", sa_crime_df.index.max())\n",
    "\n",
    "# sa_crime_df.head()"
   ]
  },
  {
   "cell_type": "code",
   "execution_count": 32,
   "id": "54207e68",
   "metadata": {},
   "outputs": [],
   "source": [
    "sa_crime_df.to_csv(\"../Dataset/Clean/crime_stats_2013_2025.csv\", encoding='utf-8', index=False)"
   ]
  },
  {
   "cell_type": "markdown",
   "id": "01f8fc74",
   "metadata": {},
   "source": [
    "## Get & Save Crime Type"
   ]
  },
  {
   "cell_type": "code",
   "execution_count": 31,
   "id": "121a3c1e",
   "metadata": {},
   "outputs": [
    {
     "data": {
      "text/html": [
       "<div>\n",
       "<style scoped>\n",
       "    .dataframe tbody tr th:only-of-type {\n",
       "        vertical-align: middle;\n",
       "    }\n",
       "\n",
       "    .dataframe tbody tr th {\n",
       "        vertical-align: top;\n",
       "    }\n",
       "\n",
       "    .dataframe thead th {\n",
       "        text-align: right;\n",
       "    }\n",
       "</style>\n",
       "<table border=\"1\" class=\"dataframe\">\n",
       "  <thead>\n",
       "    <tr style=\"text-align: right;\">\n",
       "      <th></th>\n",
       "      <th>offence_lv1</th>\n",
       "      <th>offence_lv2</th>\n",
       "      <th>offence_lv3</th>\n",
       "      <th>offence_count</th>\n",
       "    </tr>\n",
       "  </thead>\n",
       "  <tbody>\n",
       "    <tr>\n",
       "      <th>0</th>\n",
       "      <td>OFFENCES AGAINST PROPERTY</td>\n",
       "      <td>FRAUD DECEPTION AND RELATED OFFENCES</td>\n",
       "      <td>Obtain benefit by deception</td>\n",
       "      <td>30319.0</td>\n",
       "    </tr>\n",
       "    <tr>\n",
       "      <th>1</th>\n",
       "      <td>OFFENCES AGAINST PROPERTY</td>\n",
       "      <td>FRAUD DECEPTION AND RELATED OFFENCES</td>\n",
       "      <td>Other fraud, deception and related offences</td>\n",
       "      <td>6774.0</td>\n",
       "    </tr>\n",
       "    <tr>\n",
       "      <th>2</th>\n",
       "      <td>OFFENCES AGAINST PROPERTY</td>\n",
       "      <td>PROPERTY DAMAGE AND ENVIRONMENTAL</td>\n",
       "      <td>Graffiti</td>\n",
       "      <td>20689.0</td>\n",
       "    </tr>\n",
       "    <tr>\n",
       "      <th>3</th>\n",
       "      <td>OFFENCES AGAINST PROPERTY</td>\n",
       "      <td>PROPERTY DAMAGE AND ENVIRONMENTAL</td>\n",
       "      <td>Other property damage and environmental</td>\n",
       "      <td>200236.0</td>\n",
       "    </tr>\n",
       "    <tr>\n",
       "      <th>4</th>\n",
       "      <td>OFFENCES AGAINST PROPERTY</td>\n",
       "      <td>PROPERTY DAMAGE AND ENVIRONMENTAL</td>\n",
       "      <td>Property damage by fire or explosion</td>\n",
       "      <td>14593.0</td>\n",
       "    </tr>\n",
       "  </tbody>\n",
       "</table>\n",
       "</div>"
      ],
      "text/plain": [
       "                 offence_lv1                           offence_lv2  \\\n",
       "0  OFFENCES AGAINST PROPERTY  FRAUD DECEPTION AND RELATED OFFENCES   \n",
       "1  OFFENCES AGAINST PROPERTY  FRAUD DECEPTION AND RELATED OFFENCES   \n",
       "2  OFFENCES AGAINST PROPERTY     PROPERTY DAMAGE AND ENVIRONMENTAL   \n",
       "3  OFFENCES AGAINST PROPERTY     PROPERTY DAMAGE AND ENVIRONMENTAL   \n",
       "4  OFFENCES AGAINST PROPERTY     PROPERTY DAMAGE AND ENVIRONMENTAL   \n",
       "\n",
       "                                   offence_lv3  offence_count  \n",
       "0                  Obtain benefit by deception        30319.0  \n",
       "1  Other fraud, deception and related offences         6774.0  \n",
       "2                                     Graffiti        20689.0  \n",
       "3      Other property damage and environmental       200236.0  \n",
       "4         Property damage by fire or explosion        14593.0  "
      ]
     },
     "execution_count": 31,
     "metadata": {},
     "output_type": "execute_result"
    }
   ],
   "source": [
    "sa_crime_type = sa_crime_df.groupby(['offence_lv1', 'offence_lv2', 'offence_lv3'])['offence_count'].sum()\n",
    "sa_crime_type = sa_crime_type.reset_index()\n",
    "sa_crime_type.head()"
   ]
  },
  {
   "cell_type": "code",
   "execution_count": 19,
   "id": "028175cd",
   "metadata": {},
   "outputs": [],
   "source": [
    "sa_crime_type.to_csv(\"../Dataset/Clean/crime_type.csv\", encoding='utf-8', index=False)"
   ]
  },
  {
   "cell_type": "code",
   "execution_count": null,
   "id": "f0c71f91",
   "metadata": {},
   "outputs": [],
   "source": [
    "# def get_quarter(month):\n",
    "#     m = int(month)\n",
    "#     quarter = None\n",
    "#     if m in (7,8,9):\n",
    "#         quarter = \"Q1\"\n",
    "#     elif m in (10,11,12):\n",
    "#         quarter = \"Q2\"\n",
    "#     elif m in (1,2,3):\n",
    "#         quarter = \"Q3\"\n",
    "#     elif m in (4,5,6):\n",
    "#         quarter = \"Q4\"\n",
    "#     return quarter\n",
    "\n",
    "# def get_financial_year(date_str):\n",
    "#     m = int(date_str[3:5])\n",
    "#     y = int(date_str[6:11])\n",
    "#     f_year = None\n",
    "#     if m >= 7:\n",
    "#         f_year = str(y) + \"/\" + str(y+1)\n",
    "#     else:\n",
    "#         f_year = str(y-1) + \"/\" + str(y)\n",
    "#     return f_year\n",
    "\n",
    "# sa_crime_df['Quarter'] = sa_crime_df['Date'].dt.month.apply(lambda month: get_quarter(month))\n",
    "# sa_crime_df['Financial Year'] = sa_crime_df['Reported Date'].apply(lambda date_str: get_financial_year(date_str))\n"
   ]
  },
  {
   "cell_type": "markdown",
   "id": "626c98d8",
   "metadata": {},
   "source": [
    "## Get Suburb Dictionary from Crime Stats"
   ]
  },
  {
   "cell_type": "code",
   "execution_count": null,
   "id": "a04b27f9",
   "metadata": {},
   "outputs": [
    {
     "data": {
      "text/html": [
       "<div>\n",
       "<style scoped>\n",
       "    .dataframe tbody tr th:only-of-type {\n",
       "        vertical-align: middle;\n",
       "    }\n",
       "\n",
       "    .dataframe tbody tr th {\n",
       "        vertical-align: top;\n",
       "    }\n",
       "\n",
       "    .dataframe thead th {\n",
       "        text-align: right;\n",
       "    }\n",
       "</style>\n",
       "<table border=\"1\" class=\"dataframe\">\n",
       "  <thead>\n",
       "    <tr style=\"text-align: right;\">\n",
       "      <th></th>\n",
       "      <th>Suburb - Incident</th>\n",
       "      <th>Postcode - Incident</th>\n",
       "    </tr>\n",
       "  </thead>\n",
       "  <tbody>\n",
       "    <tr>\n",
       "      <th>0</th>\n",
       "      <td>ABERFOYLE PARK</td>\n",
       "      <td>5159</td>\n",
       "    </tr>\n",
       "    <tr>\n",
       "      <th>1</th>\n",
       "      <td>ADELAIDE</td>\n",
       "      <td>5000</td>\n",
       "    </tr>\n",
       "    <tr>\n",
       "      <th>2</th>\n",
       "      <td>ADELAIDE AIRPORT</td>\n",
       "      <td>5950</td>\n",
       "    </tr>\n",
       "    <tr>\n",
       "      <th>3</th>\n",
       "      <td>ALBERTON</td>\n",
       "      <td>5014</td>\n",
       "    </tr>\n",
       "    <tr>\n",
       "      <th>4</th>\n",
       "      <td>ALBERT PARK</td>\n",
       "      <td>5014</td>\n",
       "    </tr>\n",
       "  </tbody>\n",
       "</table>\n",
       "</div>"
      ],
      "text/plain": [
       "  Suburb - Incident Postcode - Incident\n",
       "0    ABERFOYLE PARK                5159\n",
       "1          ADELAIDE                5000\n",
       "2  ADELAIDE AIRPORT                5950\n",
       "3          ALBERTON                5014\n",
       "4       ALBERT PARK                5014"
      ]
     },
     "execution_count": 9,
     "metadata": {},
     "output_type": "execute_result"
    }
   ],
   "source": [
    "suburb_postcode = sa_crime_df[['suburb', 'postcode']].drop_duplicates()\n",
    "suburb_postcode.reset_index(inplace=True)\n",
    "# suburb_postcode.drop(columns=['Date'], inplace=True)\n",
    "suburb_postcode.head()\n"
   ]
  },
  {
   "cell_type": "code",
   "execution_count": 11,
   "id": "547bfa11",
   "metadata": {},
   "outputs": [],
   "source": [
    "suburb_postcode.to_csv(\"../Dataset/Clean/crime_suburb_dictionary.csv\", encoding='utf-8')"
   ]
  },
  {
   "cell_type": "markdown",
   "id": "e02d02bb",
   "metadata": {},
   "source": [
    "## Initial Clean FDA Crime Data"
   ]
  },
  {
   "cell_type": "code",
   "execution_count": 34,
   "id": "4eb46bec",
   "metadata": {},
   "outputs": [
    {
     "name": "stdout",
     "output_type": "stream",
     "text": [
      "Total Record of FDA Crime data before remove null:  33869\n",
      "Total Record of FDA Crime data after remove null:  33672\n"
     ]
    },
    {
     "data": {
      "text/html": [
       "<div>\n",
       "<style scoped>\n",
       "    .dataframe tbody tr th:only-of-type {\n",
       "        vertical-align: middle;\n",
       "    }\n",
       "\n",
       "    .dataframe tbody tr th {\n",
       "        vertical-align: top;\n",
       "    }\n",
       "\n",
       "    .dataframe thead th {\n",
       "        text-align: right;\n",
       "    }\n",
       "</style>\n",
       "<table border=\"1\" class=\"dataframe\">\n",
       "  <thead>\n",
       "    <tr style=\"text-align: right;\">\n",
       "      <th></th>\n",
       "      <th>financial_quarter_and_year</th>\n",
       "      <th>postcode</th>\n",
       "      <th>offence_lv1</th>\n",
       "      <th>offence_lv2</th>\n",
       "      <th>offence_lv3</th>\n",
       "      <th>offence_count</th>\n",
       "    </tr>\n",
       "  </thead>\n",
       "  <tbody>\n",
       "    <tr>\n",
       "      <th>0</th>\n",
       "      <td>Q1-2013/2014</td>\n",
       "      <td>0872</td>\n",
       "      <td>OFFENCES AGAINST PROPERTY</td>\n",
       "      <td>PROPERTY DAMAGE AND ENVIRONMENTAL</td>\n",
       "      <td>Other property damage and environmental</td>\n",
       "      <td>1.0</td>\n",
       "    </tr>\n",
       "    <tr>\n",
       "      <th>1</th>\n",
       "      <td>Q1-2013/2014</td>\n",
       "      <td>0872</td>\n",
       "      <td>OFFENCES AGAINST THE PERSON</td>\n",
       "      <td>ACTS INTENDED TO CAUSE INJURY</td>\n",
       "      <td>Serious Assault not resulting in injury</td>\n",
       "      <td>5.0</td>\n",
       "    </tr>\n",
       "    <tr>\n",
       "      <th>2</th>\n",
       "      <td>Q1-2013/2014</td>\n",
       "      <td>5000</td>\n",
       "      <td>OFFENCES AGAINST THE PERSON</td>\n",
       "      <td>ACTS INTENDED TO CAUSE INJURY</td>\n",
       "      <td>Common Assault</td>\n",
       "      <td>1.0</td>\n",
       "    </tr>\n",
       "    <tr>\n",
       "      <th>3</th>\n",
       "      <td>Q1-2013/2014</td>\n",
       "      <td>5000</td>\n",
       "      <td>OFFENCES AGAINST THE PERSON</td>\n",
       "      <td>ACTS INTENDED TO CAUSE INJURY</td>\n",
       "      <td>Other acts intended to cause injury</td>\n",
       "      <td>1.0</td>\n",
       "    </tr>\n",
       "    <tr>\n",
       "      <th>4</th>\n",
       "      <td>Q1-2013/2014</td>\n",
       "      <td>5000</td>\n",
       "      <td>OFFENCES AGAINST THE PERSON</td>\n",
       "      <td>ACTS INTENDED TO CAUSE INJURY</td>\n",
       "      <td>Serious Assault not resulting in injury</td>\n",
       "      <td>8.0</td>\n",
       "    </tr>\n",
       "  </tbody>\n",
       "</table>\n",
       "</div>"
      ],
      "text/plain": [
       "  financial_quarter_and_year postcode                  offence_lv1  \\\n",
       "0               Q1-2013/2014     0872    OFFENCES AGAINST PROPERTY   \n",
       "1               Q1-2013/2014     0872  OFFENCES AGAINST THE PERSON   \n",
       "2               Q1-2013/2014     5000  OFFENCES AGAINST THE PERSON   \n",
       "3               Q1-2013/2014     5000  OFFENCES AGAINST THE PERSON   \n",
       "4               Q1-2013/2014     5000  OFFENCES AGAINST THE PERSON   \n",
       "\n",
       "                         offence_lv2                              offence_lv3  \\\n",
       "0  PROPERTY DAMAGE AND ENVIRONMENTAL  Other property damage and environmental   \n",
       "1      ACTS INTENDED TO CAUSE INJURY  Serious Assault not resulting in injury   \n",
       "2      ACTS INTENDED TO CAUSE INJURY                           Common Assault   \n",
       "3      ACTS INTENDED TO CAUSE INJURY      Other acts intended to cause injury   \n",
       "4      ACTS INTENDED TO CAUSE INJURY  Serious Assault not resulting in injury   \n",
       "\n",
       "   offence_count  \n",
       "0            1.0  \n",
       "1            5.0  \n",
       "2            1.0  \n",
       "3            1.0  \n",
       "4            8.0  "
      ]
     },
     "execution_count": 34,
     "metadata": {},
     "output_type": "execute_result"
    }
   ],
   "source": [
    "# Original Columns\n",
    "# ['Financial Quarter And Year Name - Reported', 'Postcode - Incident',\n",
    "# 'Offence Level 1 Description', 'Offence Level 2 Description',\n",
    "# 'Offence Level 3 Description', 'Offence Count']\n",
    "\n",
    "sa_fda_df.columns = ['financial_quarter_and_year', 'postcode', 'offence_lv1'\n",
    "                     , 'offence_lv2', 'offence_lv3', 'offence_count']\n",
    "print(\"Total Record of FDA Crime data before remove null: \", len(sa_fda_df))\n",
    "sa_fda_df.dropna(inplace=True)\n",
    "print(\"Total Record of FDA Crime data after remove null: \", len(sa_fda_df))\n",
    "sa_fda_df.head()"
   ]
  },
  {
   "cell_type": "code",
   "execution_count": 37,
   "id": "a3de5cac",
   "metadata": {},
   "outputs": [
    {
     "name": "stdout",
     "output_type": "stream",
     "text": [
      "<class 'pandas.core.frame.DataFrame'>\n",
      "Index: 33672 entries, 0 to 2909\n",
      "Data columns (total 6 columns):\n",
      " #   Column                      Non-Null Count  Dtype  \n",
      "---  ------                      --------------  -----  \n",
      " 0   financial_quarter_and_year  33672 non-null  object \n",
      " 1   postcode                    33672 non-null  object \n",
      " 2   offence_lv1                 33672 non-null  object \n",
      " 3   offence_lv2                 33672 non-null  object \n",
      " 4   offence_lv3                 33672 non-null  object \n",
      " 5   offence_count               33672 non-null  float64\n",
      "dtypes: float64(1), object(5)\n",
      "memory usage: 1.8+ MB\n"
     ]
    }
   ],
   "source": [
    "sa_fda_df.info()"
   ]
  },
  {
   "cell_type": "code",
   "execution_count": 41,
   "id": "d07b5e2e",
   "metadata": {},
   "outputs": [],
   "source": [
    "sa_fda_df.to_csv(\"../Dataset/Clean/fda_crime_2013_2025.csv\", encoding='utf-8', index=False)"
   ]
  },
  {
   "cell_type": "markdown",
   "id": "c437e96a",
   "metadata": {},
   "source": [
    "Q1 (July 1 - September 30), Q2 (October 1 - December 31), Q3 (January 1 - March 31), and Q4 (April 1 - June 30)."
   ]
  },
  {
   "cell_type": "markdown",
   "id": "a856a07a",
   "metadata": {},
   "source": [
    "## Clean FDA Crime Type "
   ]
  },
  {
   "cell_type": "code",
   "execution_count": 39,
   "id": "7ecf74cc",
   "metadata": {},
   "outputs": [
    {
     "data": {
      "text/html": [
       "<div>\n",
       "<style scoped>\n",
       "    .dataframe tbody tr th:only-of-type {\n",
       "        vertical-align: middle;\n",
       "    }\n",
       "\n",
       "    .dataframe tbody tr th {\n",
       "        vertical-align: top;\n",
       "    }\n",
       "\n",
       "    .dataframe thead th {\n",
       "        text-align: right;\n",
       "    }\n",
       "</style>\n",
       "<table border=\"1\" class=\"dataframe\">\n",
       "  <thead>\n",
       "    <tr style=\"text-align: right;\">\n",
       "      <th></th>\n",
       "      <th>offence_lv1</th>\n",
       "      <th>offence_lv2</th>\n",
       "      <th>offence_lv3</th>\n",
       "      <th>offence_count</th>\n",
       "    </tr>\n",
       "  </thead>\n",
       "  <tbody>\n",
       "    <tr>\n",
       "      <th>0</th>\n",
       "      <td>OFFENCES AGAINST PROPERTY</td>\n",
       "      <td>FRAUD DECEPTION AND RELATED OFFENCES</td>\n",
       "      <td>Obtain benefit by deception</td>\n",
       "      <td>180.0</td>\n",
       "    </tr>\n",
       "    <tr>\n",
       "      <th>1</th>\n",
       "      <td>OFFENCES AGAINST PROPERTY</td>\n",
       "      <td>FRAUD DECEPTION AND RELATED OFFENCES</td>\n",
       "      <td>Other fraud, deception and related offences</td>\n",
       "      <td>37.0</td>\n",
       "    </tr>\n",
       "    <tr>\n",
       "      <th>2</th>\n",
       "      <td>OFFENCES AGAINST PROPERTY</td>\n",
       "      <td>PROPERTY DAMAGE AND ENVIRONMENTAL</td>\n",
       "      <td>Graffiti</td>\n",
       "      <td>125.0</td>\n",
       "    </tr>\n",
       "    <tr>\n",
       "      <th>3</th>\n",
       "      <td>OFFENCES AGAINST PROPERTY</td>\n",
       "      <td>PROPERTY DAMAGE AND ENVIRONMENTAL</td>\n",
       "      <td>Other property damage and environmental</td>\n",
       "      <td>21688.0</td>\n",
       "    </tr>\n",
       "    <tr>\n",
       "      <th>4</th>\n",
       "      <td>OFFENCES AGAINST PROPERTY</td>\n",
       "      <td>PROPERTY DAMAGE AND ENVIRONMENTAL</td>\n",
       "      <td>Property damage by fire or explosion</td>\n",
       "      <td>223.0</td>\n",
       "    </tr>\n",
       "  </tbody>\n",
       "</table>\n",
       "</div>"
      ],
      "text/plain": [
       "                 offence_lv1                           offence_lv2  \\\n",
       "0  OFFENCES AGAINST PROPERTY  FRAUD DECEPTION AND RELATED OFFENCES   \n",
       "1  OFFENCES AGAINST PROPERTY  FRAUD DECEPTION AND RELATED OFFENCES   \n",
       "2  OFFENCES AGAINST PROPERTY     PROPERTY DAMAGE AND ENVIRONMENTAL   \n",
       "3  OFFENCES AGAINST PROPERTY     PROPERTY DAMAGE AND ENVIRONMENTAL   \n",
       "4  OFFENCES AGAINST PROPERTY     PROPERTY DAMAGE AND ENVIRONMENTAL   \n",
       "\n",
       "                                   offence_lv3  offence_count  \n",
       "0                  Obtain benefit by deception          180.0  \n",
       "1  Other fraud, deception and related offences           37.0  \n",
       "2                                     Graffiti          125.0  \n",
       "3      Other property damage and environmental        21688.0  \n",
       "4         Property damage by fire or explosion          223.0  "
      ]
     },
     "execution_count": 39,
     "metadata": {},
     "output_type": "execute_result"
    }
   ],
   "source": [
    "sa_fda_crime_type = sa_fda_df.groupby(['offence_lv1', 'offence_lv2', 'offence_lv3'])['offence_count'].sum()\n",
    "sa_fda_crime_type = sa_fda_crime_type.reset_index()\n",
    "sa_fda_crime_type.head()"
   ]
  },
  {
   "cell_type": "code",
   "execution_count": 40,
   "id": "084c8bb1",
   "metadata": {},
   "outputs": [],
   "source": [
    "sa_fda_crime_type.to_csv(\"../Dataset/Clean/fda_crime_type.csv\", encoding='utf-8', index=False)"
   ]
  },
  {
   "cell_type": "code",
   "execution_count": 35,
   "id": "38e97cdd",
   "metadata": {},
   "outputs": [],
   "source": [
    "# sa_fda_df['Quarter'] = sa_fda_df['Financial Quarter And Year Name - Reported'].str[:2]\n",
    "# sa_fda_df['Financial Year'] = sa_fda_df['Financial Quarter And Year Name - Reported'].str[3:]\n",
    "# sa_fda_df.head()\n"
   ]
  }
 ],
 "metadata": {
  "kernelspec": {
   "display_name": "base",
   "language": "python",
   "name": "python3"
  },
  "language_info": {
   "codemirror_mode": {
    "name": "ipython",
    "version": 3
   },
   "file_extension": ".py",
   "mimetype": "text/x-python",
   "name": "python",
   "nbconvert_exporter": "python",
   "pygments_lexer": "ipython3",
   "version": "3.11.5"
  }
 },
 "nbformat": 4,
 "nbformat_minor": 5
}
